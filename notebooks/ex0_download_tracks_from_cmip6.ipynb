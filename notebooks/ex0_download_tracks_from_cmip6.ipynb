{
 "cells": [
  {
   "cell_type": "markdown",
   "metadata": {},
   "source": [
    "# PyTCR - Example 0: Download tropical cyclone tracks downscaled from CMIP6 models"
   ]
  },
  {
   "cell_type": "markdown",
   "metadata": {},
   "source": [
    "**Author:** [Phong Le](https://github.com/levuvietphong)"
   ]
  },
  {
   "cell_type": "markdown",
   "metadata": {},
   "source": [
    "**Description:** This notebook shows how to download tropical cyclone tracks downscaled from various CMIP6 models. The data can be accessed at [https://web.corral.tacc.utexas.edu/setxuifl/tropical_cyclones/downscaled_cmip6_tracks](https://web.corral.tacc.utexas.edu/setxuifl/tropical_cyclones/downscaled_cmip6_tracks)."
   ]
  },
  {
   "cell_type": "markdown",
   "metadata": {},
   "source": [
    "### Import libraries"
   ]
  },
  {
   "cell_type": "code",
   "execution_count": 7,
   "metadata": {},
   "outputs": [
    {
     "name": "stdout",
     "output_type": "stream",
     "text": [
      "The autoreload extension is already loaded. To reload it, use:\n",
      "  %reload_ext autoreload\n"
     ]
    }
   ],
   "source": [
    "%load_ext autoreload\n",
    "%autoreload 2\n",
    "\n",
    "import warnings\n",
    "warnings.filterwarnings(\"ignore\")\n",
    "\n",
    "import tcr.iodata as tcr_io"
   ]
  },
  {
   "cell_type": "markdown",
   "metadata": {},
   "source": [
    "### Fetch and print the directory tree structure from the server (TACC)"
   ]
  },
  {
   "cell_type": "code",
   "execution_count": 8,
   "metadata": {},
   "outputs": [
    {
     "name": "stdout",
     "output_type": "stream",
     "text": [
      "\u001b[1m\u001b[94m|-- historical\u001b[0m\n",
      "\u001b[93m    |-- ACCESS-CM2\u001b[0m\n",
      "\u001b[93m    |-- ACCESS-ESM1-5\u001b[0m\n",
      "\u001b[93m    |-- CESM2\u001b[0m\n",
      "\u001b[93m    |-- CESM2-WACCM\u001b[0m\n",
      "\u001b[93m    |-- CMCC-CM2-SR5\u001b[0m\n",
      "\u001b[93m    |-- CMCC-ESM2\u001b[0m\n",
      "\u001b[93m    |-- CanESM5\u001b[0m\n",
      "\u001b[93m    |-- E3SM-1-0\u001b[0m\n",
      "\u001b[93m    |-- E3SM-1-1\u001b[0m\n",
      "\u001b[93m    |-- E3SM-1-1-ECA\u001b[0m\n",
      "\u001b[93m    |-- E3SM-2-0\u001b[0m\n",
      "\u001b[93m    |-- EC-Earth3\u001b[0m\n",
      "\u001b[93m    |-- EC-Earth3-Veg\u001b[0m\n",
      "\u001b[93m    |-- EC-Earth3-Veg-LR\u001b[0m\n",
      "\u001b[93m    |-- FGOALS-g3\u001b[0m\n",
      "\u001b[93m    |-- GFDL-CM4\u001b[0m\n",
      "\u001b[93m    |-- HadGEM3-GC31-LL\u001b[0m\n",
      "\u001b[93m    |-- HadGEM3-GC31-MM\u001b[0m\n",
      "\u001b[93m    |-- IITM-ESM\u001b[0m\n",
      "\u001b[93m    |-- INM-CM4-8\u001b[0m\n",
      "\u001b[93m    |-- INM-CM5-0\u001b[0m\n",
      "\u001b[93m    |-- IPSL-CM6A-LR\u001b[0m\n",
      "\u001b[93m    |-- KACE-1-0-G\u001b[0m\n",
      "\u001b[93m    |-- MIROC6\u001b[0m\n",
      "\u001b[93m    |-- MPI-ESM1-2-HR\u001b[0m\n",
      "\u001b[93m    |-- MPI-ESM1-2-LR\u001b[0m\n",
      "\u001b[93m    |-- MRI-ESM2-0\u001b[0m\n",
      "\u001b[93m    |-- NESM3\u001b[0m\n",
      "\u001b[93m    |-- NorESM2-LM\u001b[0m\n",
      "\u001b[93m    |-- REANALYSIS\u001b[0m\n",
      "\u001b[93m    |-- TaiESM1\u001b[0m\n",
      "\u001b[1m\u001b[94m|-- ssp585\u001b[0m\n",
      "\u001b[93m    |-- ACCESS-CM2\u001b[0m\n",
      "\u001b[93m    |-- ACCESS-ESM1-5\u001b[0m\n",
      "\u001b[93m    |-- CESM2-WACCM\u001b[0m\n",
      "\u001b[93m    |-- CMCC-CM2-SR5\u001b[0m\n",
      "\u001b[93m    |-- CMCC-ESM2\u001b[0m\n",
      "\u001b[93m    |-- CanESM5\u001b[0m\n",
      "\u001b[93m    |-- E3SM-1-0\u001b[0m\n",
      "\u001b[93m    |-- E3SM-1-1\u001b[0m\n",
      "\u001b[93m    |-- E3SM-1-1-ECA\u001b[0m\n",
      "\u001b[93m    |-- EC-Earth3\u001b[0m\n",
      "\u001b[93m    |-- EC-Earth3-Veg\u001b[0m\n",
      "\u001b[93m    |-- EC-Earth3-Veg-LR\u001b[0m\n",
      "\u001b[93m    |-- FGOALS-g3\u001b[0m\n",
      "\u001b[93m    |-- GFDL-CM4\u001b[0m\n",
      "\u001b[93m    |-- HadGEM3-GC31-LL\u001b[0m\n",
      "\u001b[93m    |-- HadGEM3-GC31-MM\u001b[0m\n",
      "\u001b[93m    |-- IITM-ESM\u001b[0m\n",
      "\u001b[93m    |-- INM-CM4-8\u001b[0m\n",
      "\u001b[93m    |-- INM-CM5-0\u001b[0m\n",
      "\u001b[93m    |-- IPSL-CM6A-LR\u001b[0m\n",
      "\u001b[93m    |-- KACE-1-0-G\u001b[0m\n",
      "\u001b[93m    |-- MIROC6\u001b[0m\n",
      "\u001b[93m    |-- MPI-ESM1-2-HR\u001b[0m\n",
      "\u001b[93m    |-- MPI-ESM1-2-LR\u001b[0m\n",
      "\u001b[93m    |-- MRI-ESM2-0\u001b[0m\n",
      "\u001b[93m    |-- NESM3\u001b[0m\n",
      "\u001b[93m    |-- NorESM2-LM\u001b[0m\n",
      "\u001b[93m    |-- TaiESM1\u001b[0m\n"
     ]
    }
   ],
   "source": [
    "max_depth = 2  # Define the maximum depth to traverse\n",
    "tcr_io.fetch_directory_tree(max_depth=max_depth)"
   ]
  },
  {
   "cell_type": "markdown",
   "metadata": {},
   "source": [
    "### Download model data"
   ]
  },
  {
   "cell_type": "code",
   "execution_count": 9,
   "metadata": {},
   "outputs": [
    {
     "name": "stdout",
     "output_type": "stream",
     "text": [
      "Downloading tracks_NA_E3SM-1-0_historical_r1i1p1f1_196401_201412.nc...\n",
      "25.41 MB of 25.41 MB (100.00%)\n",
      "Downloading tracks_NA_REANALYSIS_historical_r1i1p1f1_196401_201412.nc...\n",
      "25.41 MB of 25.41 MB (100.00%)\n"
     ]
    }
   ],
   "source": [
    "# Select experiment or list of experiments to download\n",
    "experiments = ['historical']\n",
    "\n",
    "# Select model or list of models to download\n",
    "models = ['E3SM-1-0', 'REANALYSIS']\n",
    "\n",
    "# Download the data\n",
    "tcr_io.download_tracks_data_cmip6(experiments=experiments, models=models)"
   ]
  },
  {
   "cell_type": "code",
   "execution_count": null,
   "metadata": {},
   "outputs": [],
   "source": []
  }
 ],
 "metadata": {
  "kernelspec": {
   "display_name": "pyTCR",
   "language": "python",
   "name": "python3"
  },
  "language_info": {
   "codemirror_mode": {
    "name": "ipython",
    "version": 3
   },
   "file_extension": ".py",
   "mimetype": "text/x-python",
   "name": "python",
   "nbconvert_exporter": "python",
   "pygments_lexer": "ipython3",
   "version": "3.8.19"
  }
 },
 "nbformat": 4,
 "nbformat_minor": 2
}
