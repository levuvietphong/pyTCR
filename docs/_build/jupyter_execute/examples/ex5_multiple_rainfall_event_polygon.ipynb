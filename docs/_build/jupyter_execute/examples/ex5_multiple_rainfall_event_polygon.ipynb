{
 "cells": [
  {
   "cell_type": "markdown",
   "metadata": {},
   "source": [
    "# **5. Multiple tropical cyclone rainfall events generated over a specific region**"
   ]
  },
  {
   "cell_type": "markdown",
   "metadata": {},
   "source": [
    "## **Description** \n",
    "- Similar to Example 4, this `jupyter notebook` shows how to generate rainfall events driven by all tropical cyclones for a specific region of interest using shapefiles."
   ]
  },
  {
   "cell_type": "markdown",
   "metadata": {},
   "source": [
    "## **Import libraries**"
   ]
  },
  {
   "cell_type": "code",
   "execution_count": 1,
   "metadata": {
    "execution": {
     "iopub.execute_input": "2025-02-14T20:39:33.438239Z",
     "iopub.status.busy": "2025-02-14T20:39:33.437693Z",
     "iopub.status.idle": "2025-02-14T20:39:33.934388Z",
     "shell.execute_reply": "2025-02-14T20:39:33.933969Z"
    }
   },
   "outputs": [],
   "source": [
    "%load_ext autoreload\n",
    "%autoreload 2\n",
    "\n",
    "import sys, os\n",
    "\n",
    "import warnings\n",
    "warnings.filterwarnings(\"ignore\")\n",
    "\n",
    "import numpy as np\n",
    "import matplotlib.pyplot as plt\n",
    "import cartopy.io.shapereader as shpreader\n",
    "import cartopy.crs as ccrs\n",
    "import colorcet as cc\n",
    "\n",
    "# pytcr modules\n",
    "import tcr.datadir as tcr_data\n",
    "import tcr.rainfall as tcr_rain\n",
    "import tcr.wind as tcr_wind\n",
    "import tcr.iodata as tcr_io\n",
    "import tcr.plots as tcr_plot"
   ]
  },
  {
   "cell_type": "markdown",
   "metadata": {},
   "source": [
    "## **Configuration and Data**"
   ]
  },
  {
   "cell_type": "code",
   "execution_count": 2,
   "metadata": {
    "execution": {
     "iopub.execute_input": "2025-02-14T20:39:33.936085Z",
     "iopub.status.busy": "2025-02-14T20:39:33.935718Z",
     "iopub.status.idle": "2025-02-14T20:39:33.942554Z",
     "shell.execute_reply": "2025-02-14T20:39:33.942348Z"
    }
   },
   "outputs": [],
   "source": [
    "# Shapefile of Texas state\n",
    "shapefile = os.path.join(tcr_data.DATA_DIR, 'shapefiles', 'Texas_bound.shp')\n",
    "shp_region = shpreader.Reader(shapefile)\n",
    "\n",
    "# Plotting period\n",
    "yearmin = 1964\n",
    "yearmax = 2014\n",
    "num_years = yearmax - yearmin + 1\n",
    "\n",
    "# Directory containing the downscaled data\n",
    "data_directory = os.path.join(tcr_data.DATA_DIR, 'downscaled')"
   ]
  },
  {
   "cell_type": "markdown",
   "metadata": {},
   "source": [
    "## **Load data from a CMIP6 model**\n",
    "In this notebook, the [E3SM version 1.0](https://e3sm.org/) is demonstrated but the notebook is applicable to other [CMIP6 models](https://pcmdi.llnl.gov/CMIP6/).\n",
    "- The downscaling model does not directly provide the radius of maximum circular wind. We will estimate it based on the circular wind speed.\n",
    "- This estimation is performed once and saved to the dataset for future use.  \n",
    "- If the radius data already exists in the dataset, it will be loaded directly from the file. "
   ]
  },
  {
   "cell_type": "code",
   "execution_count": 3,
   "metadata": {
    "execution": {
     "iopub.execute_input": "2025-02-14T20:39:33.943625Z",
     "iopub.status.busy": "2025-02-14T20:39:33.943545Z",
     "iopub.status.idle": "2025-02-14T20:39:34.024910Z",
     "shell.execute_reply": "2025-02-14T20:39:34.024635Z"
    }
   },
   "outputs": [
    {
     "name": "stdout",
     "output_type": "stream",
     "text": [
      "The radius of maximum circular wind was found in file!\n",
      "Loading rm_trks...\n"
     ]
    }
   ],
   "source": [
    "model = 'E3SM-1-0'\n",
    "expmnt='historical'\n",
    "\n",
    "# Load NetCDF data\n",
    "ds, lat_trks, lon_trks, n_trk, v_trks, vmax_trks, u850_trks, v850_trks, \\\n",
    "    tc_month, tc_years, tc_time = tcr_io.load_netcdf_track_data(\n",
    "    data_directory=data_directory, model=model, basin='NA', expmnt=expmnt)\n",
    "\n",
    "# check if radius of maximum wind is available, if not estimate it.\n",
    "rm_trks = tcr_wind.estimate_radius_wind(\n",
    "    ds, lat_trks, vmax_trks, n_trk, data_directory=data_directory, model=model,\n",
    "    basin='NA', expmnt=expmnt, force_recompute=False\n",
    ")\n",
    "\n",
    "# Calculate translation speeds (knots) of the storms.\n",
    "ut, vt, jmax = tcr_wind.get_translation_speeds(lat_trks, lon_trks)"
   ]
  },
  {
   "cell_type": "markdown",
   "metadata": {},
   "source": [
    "## **Generate rainfall for storms**\n",
    "- We run through all storms to generate rainfall for each storm\n",
    "- This process takes a while to run for many storms, here will run 20 storms only for demonstration."
   ]
  },
  {
   "cell_type": "code",
   "execution_count": 4,
   "metadata": {
    "execution": {
     "iopub.execute_input": "2025-02-14T20:39:34.040951Z",
     "iopub.status.busy": "2025-02-14T20:39:34.040846Z",
     "iopub.status.idle": "2025-02-14T20:40:03.909949Z",
     "shell.execute_reply": "2025-02-14T20:40:03.909622Z"
    }
   },
   "outputs": [
    {
     "name": "stdout",
     "output_type": "stream",
     "text": [
      "Storm 1/20 completed...\r"
     ]
    },
    {
     "name": "stdout",
     "output_type": "stream",
     "text": [
      "Storm 2/20 completed...\r"
     ]
    },
    {
     "name": "stdout",
     "output_type": "stream",
     "text": [
      "Storm 3/20 completed...\r"
     ]
    },
    {
     "name": "stdout",
     "output_type": "stream",
     "text": [
      "Storm 4/20 completed...\r"
     ]
    },
    {
     "name": "stdout",
     "output_type": "stream",
     "text": [
      "Storm 5/20 completed...\r"
     ]
    },
    {
     "name": "stdout",
     "output_type": "stream",
     "text": [
      "Storm 6/20 completed...\r"
     ]
    },
    {
     "name": "stdout",
     "output_type": "stream",
     "text": [
      "Storm 7/20 completed...\r"
     ]
    },
    {
     "name": "stdout",
     "output_type": "stream",
     "text": [
      "Storm 8/20 completed...\r"
     ]
    },
    {
     "name": "stdout",
     "output_type": "stream",
     "text": [
      "Storm 9/20 completed...\r"
     ]
    },
    {
     "name": "stdout",
     "output_type": "stream",
     "text": [
      "Storm 10/20 completed...\r"
     ]
    },
    {
     "name": "stdout",
     "output_type": "stream",
     "text": [
      "Storm 11/20 completed...\r"
     ]
    },
    {
     "name": "stdout",
     "output_type": "stream",
     "text": [
      "Storm 12/20 completed...\r"
     ]
    },
    {
     "name": "stdout",
     "output_type": "stream",
     "text": [
      "Storm 13/20 completed...\r"
     ]
    },
    {
     "name": "stdout",
     "output_type": "stream",
     "text": [
      "Storm 14/20 completed...\r"
     ]
    },
    {
     "name": "stdout",
     "output_type": "stream",
     "text": [
      "Storm 15/20 completed...\r"
     ]
    },
    {
     "name": "stdout",
     "output_type": "stream",
     "text": [
      "Storm 16/20 completed...\r"
     ]
    },
    {
     "name": "stdout",
     "output_type": "stream",
     "text": [
      "Storm 17/20 completed...\r"
     ]
    },
    {
     "name": "stdout",
     "output_type": "stream",
     "text": [
      "Storm 18/20 completed...\r"
     ]
    },
    {
     "name": "stdout",
     "output_type": "stream",
     "text": [
      "Storm 19/20 completed...\r"
     ]
    },
    {
     "name": "stdout",
     "output_type": "stream",
     "text": [
      "Storm 20/20 completed...\r"
     ]
    }
   ],
   "source": [
    "delta = 0.1  # Spatial resolution of gridded rainfall data output\n",
    "\n",
    "# Get number of storms\n",
    "# num_storms = len(n_trk)   # for all storms\n",
    "num_storms = 20\n",
    "for ind in range(num_storms):\n",
    "    x, y, netrain = tcr_rain.calculate_etr_swath(\n",
    "        ind, lat_trks, lon_trks, rm_trks, v_trks, \n",
    "        0 * rm_trks, 0 * v_trks, ut, vt, u850_trks, v850_trks, \n",
    "        dellatlongs=delta, shapefile=shapefile\n",
    "    )\n",
    "    if ind == 0:\n",
    "        netrain_all = netrain\n",
    "    else:\n",
    "        netrain_all = np.dstack((netrain_all, netrain))\n",
    "\n",
    "    print(f\"Storm {ind + 1}/{num_storms} completed...\", end='\\r')\n",
    "    sys.stdout.flush()"
   ]
  },
  {
   "cell_type": "markdown",
   "metadata": {},
   "source": [
    "## **Visualization**\n",
    "- We plot the spatial distribution of ETR for storm #17"
   ]
  },
  {
   "cell_type": "code",
   "execution_count": 5,
   "metadata": {
    "execution": {
     "iopub.execute_input": "2025-02-14T20:40:03.911336Z",
     "iopub.status.busy": "2025-02-14T20:40:03.911239Z",
     "iopub.status.idle": "2025-02-14T20:40:07.546858Z",
     "shell.execute_reply": "2025-02-14T20:40:07.546391Z"
    }
   },
   "outputs": [
    {
     "ename": "KeyboardInterrupt",
     "evalue": "",
     "output_type": "error",
     "traceback": [
      "\u001b[31m---------------------------------------------------------------------------\u001b[39m",
      "\u001b[31mKeyboardInterrupt\u001b[39m                         Traceback (most recent call last)",
      "\u001b[36mCell\u001b[39m\u001b[36m \u001b[39m\u001b[32mIn[5]\u001b[39m\u001b[32m, line 10\u001b[39m\n\u001b[32m      8\u001b[39m \u001b[38;5;66;03m# PLOT Net Rainfall\u001b[39;00m\n\u001b[32m      9\u001b[39m gl_storm_ids = \u001b[32m17\u001b[39m\n\u001b[32m---> \u001b[39m\u001b[32m10\u001b[39m grid_tx = \u001b[43mtcr_plot\u001b[49m\u001b[43m.\u001b[49m\u001b[43mshape2grid\u001b[49m\u001b[43m(\u001b[49m\u001b[43mx\u001b[49m\u001b[43m,\u001b[49m\u001b[43m \u001b[49m\u001b[43my\u001b[49m\u001b[43m,\u001b[49m\u001b[43m \u001b[49m\u001b[43mshapefile\u001b[49m\u001b[43m)\u001b[49m\n\u001b[32m     11\u001b[39m im = tcr_plot.plot_density(\n\u001b[32m     12\u001b[39m     ax, y, x, netrain_all[:,:,gl_storm_ids]*grid_tx, levels, extent=extent, projection=projection, \n\u001b[32m     13\u001b[39m     cmap=cmap, gridlabel=\u001b[38;5;28;01mTrue\u001b[39;00m, gridspace=\u001b[32m1\u001b[39m, shapefile=shp_region, coastlines=\u001b[38;5;28;01mFalse\u001b[39;00m, add_features=\u001b[38;5;28;01mFalse\u001b[39;00m,\n\u001b[32m     14\u001b[39m )\n\u001b[32m     15\u001b[39m ax.set_title(\u001b[33mf\u001b[39m\u001b[33m'\u001b[39m\u001b[33mStorm #\u001b[39m\u001b[38;5;132;01m{\u001b[39;00mgl_storm_ids\u001b[38;5;132;01m}\u001b[39;00m\u001b[33m'\u001b[39m, fontweight=\u001b[33m'\u001b[39m\u001b[33mbold\u001b[39m\u001b[33m'\u001b[39m)\n",
      "\u001b[36mFile \u001b[39m\u001b[32m~/miniconda3arm/envs/pyTCR1/lib/python3.13/site-packages/tcr/plots.py:604\u001b[39m, in \u001b[36mshape2grid\u001b[39m\u001b[34m(x, y, shapefile)\u001b[39m\n\u001b[32m    602\u001b[39m \u001b[38;5;66;03m# Check if each point is inside the shapefile\u001b[39;00m\n\u001b[32m    603\u001b[39m points = [Point(x, y) \u001b[38;5;28;01mfor\u001b[39;00m x, y \u001b[38;5;129;01min\u001b[39;00m \u001b[38;5;28mzip\u001b[39m(X.ravel(), Y.ravel())]\n\u001b[32m--> \u001b[39m\u001b[32m604\u001b[39m inside = [\u001b[43mgdf\u001b[49m\u001b[43m.\u001b[49m\u001b[43mcontains\u001b[49m\u001b[43m(\u001b[49m\u001b[43mpoint\u001b[49m\u001b[43m)\u001b[49m.any() \u001b[38;5;28;01mfor\u001b[39;00m point \u001b[38;5;129;01min\u001b[39;00m points]\n\u001b[32m    606\u001b[39m \u001b[38;5;66;03m# Reshape the result to the shape of the meshgrid\u001b[39;00m\n\u001b[32m    607\u001b[39m inside = np.array(inside).reshape(X.shape)\n",
      "\u001b[36mFile \u001b[39m\u001b[32m~/miniconda3arm/envs/pyTCR1/lib/python3.13/site-packages/geopandas/base.py:2298\u001b[39m, in \u001b[36mGeoPandasBase.contains\u001b[39m\u001b[34m(self, other, align)\u001b[39m\n\u001b[32m   2184\u001b[39m \u001b[38;5;28;01mdef\u001b[39;00m\u001b[38;5;250m \u001b[39m\u001b[34mcontains\u001b[39m(\u001b[38;5;28mself\u001b[39m, other, align=\u001b[38;5;28;01mNone\u001b[39;00m):\n\u001b[32m   2185\u001b[39m \u001b[38;5;250m    \u001b[39m\u001b[33;03m\"\"\"Returns a ``Series`` of ``dtype('bool')`` with value ``True`` for\u001b[39;00m\n\u001b[32m   2186\u001b[39m \u001b[33;03m    each aligned geometry that contains `other`.\u001b[39;00m\n\u001b[32m   2187\u001b[39m \n\u001b[32m   (...)\u001b[39m\u001b[32m   2296\u001b[39m \u001b[33;03m    GeoSeries.within\u001b[39;00m\n\u001b[32m   2297\u001b[39m \u001b[33;03m    \"\"\"\u001b[39;00m\n\u001b[32m-> \u001b[39m\u001b[32m2298\u001b[39m     \u001b[38;5;28;01mreturn\u001b[39;00m \u001b[43m_binary_op\u001b[49m\u001b[43m(\u001b[49m\u001b[33;43m\"\u001b[39;49m\u001b[33;43mcontains\u001b[39;49m\u001b[33;43m\"\u001b[39;49m\u001b[43m,\u001b[49m\u001b[43m \u001b[49m\u001b[38;5;28;43mself\u001b[39;49m\u001b[43m,\u001b[49m\u001b[43m \u001b[49m\u001b[43mother\u001b[49m\u001b[43m,\u001b[49m\u001b[43m \u001b[49m\u001b[43malign\u001b[49m\u001b[43m)\u001b[49m\n",
      "\u001b[36mFile \u001b[39m\u001b[32m~/miniconda3arm/envs/pyTCR1/lib/python3.13/site-packages/geopandas/base.py:76\u001b[39m, in \u001b[36m_binary_op\u001b[39m\u001b[34m(op, this, other, align, *args, **kwargs)\u001b[39m\n\u001b[32m     73\u001b[39m \u001b[38;5;28;01mdef\u001b[39;00m\u001b[38;5;250m \u001b[39m\u001b[34m_binary_op\u001b[39m(op, this, other, align, *args, **kwargs):\n\u001b[32m     74\u001b[39m     \u001b[38;5;66;03m# type: (str, GeoSeries, GeoSeries, args/kwargs) -> Series[bool/float]\u001b[39;00m\n\u001b[32m     75\u001b[39m \u001b[38;5;250m    \u001b[39m\u001b[33;03m\"\"\"Binary operation on GeoSeries objects that returns a Series\"\"\"\u001b[39;00m\n\u001b[32m---> \u001b[39m\u001b[32m76\u001b[39m     data, index = \u001b[43m_delegate_binary_method\u001b[49m\u001b[43m(\u001b[49m\u001b[43mop\u001b[49m\u001b[43m,\u001b[49m\u001b[43m \u001b[49m\u001b[43mthis\u001b[49m\u001b[43m,\u001b[49m\u001b[43m \u001b[49m\u001b[43mother\u001b[49m\u001b[43m,\u001b[49m\u001b[43m \u001b[49m\u001b[43malign\u001b[49m\u001b[43m,\u001b[49m\u001b[43m \u001b[49m\u001b[43m*\u001b[49m\u001b[43margs\u001b[49m\u001b[43m,\u001b[49m\u001b[43m \u001b[49m\u001b[43m*\u001b[49m\u001b[43m*\u001b[49m\u001b[43mkwargs\u001b[49m\u001b[43m)\u001b[49m\n\u001b[32m     77\u001b[39m     \u001b[38;5;28;01mreturn\u001b[39;00m Series(data, index=index)\n",
      "\u001b[36mFile \u001b[39m\u001b[32m~/miniconda3arm/envs/pyTCR1/lib/python3.13/site-packages/geopandas/base.py:60\u001b[39m, in \u001b[36m_delegate_binary_method\u001b[39m\u001b[34m(op, this, other, align, *args, **kwargs)\u001b[39m\n\u001b[32m     57\u001b[39m \u001b[38;5;28;01melse\u001b[39;00m:\n\u001b[32m     58\u001b[39m     \u001b[38;5;28;01mraise\u001b[39;00m \u001b[38;5;167;01mTypeError\u001b[39;00m(\u001b[38;5;28mtype\u001b[39m(this), \u001b[38;5;28mtype\u001b[39m(other))\n\u001b[32m---> \u001b[39m\u001b[32m60\u001b[39m data = \u001b[38;5;28;43mgetattr\u001b[39;49m\u001b[43m(\u001b[49m\u001b[43ma_this\u001b[49m\u001b[43m,\u001b[49m\u001b[43m \u001b[49m\u001b[43mop\u001b[49m\u001b[43m)\u001b[49m\u001b[43m(\u001b[49m\u001b[43mother\u001b[49m\u001b[43m,\u001b[49m\u001b[43m \u001b[49m\u001b[43m*\u001b[49m\u001b[43margs\u001b[49m\u001b[43m,\u001b[49m\u001b[43m \u001b[49m\u001b[43m*\u001b[49m\u001b[43m*\u001b[49m\u001b[43mkwargs\u001b[49m\u001b[43m)\u001b[49m\n\u001b[32m     61\u001b[39m \u001b[38;5;28;01mreturn\u001b[39;00m data, this.index\n",
      "\u001b[36mFile \u001b[39m\u001b[32m~/miniconda3arm/envs/pyTCR1/lib/python3.13/site-packages/geopandas/array.py:708\u001b[39m, in \u001b[36mGeometryArray.contains\u001b[39m\u001b[34m(self, other)\u001b[39m\n\u001b[32m    707\u001b[39m \u001b[38;5;28;01mdef\u001b[39;00m\u001b[38;5;250m \u001b[39m\u001b[34mcontains\u001b[39m(\u001b[38;5;28mself\u001b[39m, other):\n\u001b[32m--> \u001b[39m\u001b[32m708\u001b[39m     \u001b[38;5;28;01mreturn\u001b[39;00m \u001b[38;5;28;43mself\u001b[39;49m\u001b[43m.\u001b[49m\u001b[43m_binary_method\u001b[49m\u001b[43m(\u001b[49m\u001b[33;43m\"\u001b[39;49m\u001b[33;43mcontains\u001b[39;49m\u001b[33;43m\"\u001b[39;49m\u001b[43m,\u001b[49m\u001b[43m \u001b[49m\u001b[38;5;28;43mself\u001b[39;49m\u001b[43m,\u001b[49m\u001b[43m \u001b[49m\u001b[43mother\u001b[49m\u001b[43m)\u001b[49m\n",
      "\u001b[36mFile \u001b[39m\u001b[32m~/miniconda3arm/envs/pyTCR1/lib/python3.13/site-packages/geopandas/array.py:699\u001b[39m, in \u001b[36mGeometryArray._binary_method\u001b[39m\u001b[34m(op, left, right, **kwargs)\u001b[39m\n\u001b[32m    696\u001b[39m         _crs_mismatch_warn(left, right, stacklevel=\u001b[32m7\u001b[39m)\n\u001b[32m    697\u001b[39m     right = right._data\n\u001b[32m--> \u001b[39m\u001b[32m699\u001b[39m \u001b[38;5;28;01mreturn\u001b[39;00m \u001b[38;5;28;43mgetattr\u001b[39;49m\u001b[43m(\u001b[49m\u001b[43mshapely\u001b[49m\u001b[43m,\u001b[49m\u001b[43m \u001b[49m\u001b[43mop\u001b[49m\u001b[43m)\u001b[49m\u001b[43m(\u001b[49m\u001b[43mleft\u001b[49m\u001b[43m.\u001b[49m\u001b[43m_data\u001b[49m\u001b[43m,\u001b[49m\u001b[43m \u001b[49m\u001b[43mright\u001b[49m\u001b[43m,\u001b[49m\u001b[43m \u001b[49m\u001b[43m*\u001b[49m\u001b[43m*\u001b[49m\u001b[43mkwargs\u001b[49m\u001b[43m)\u001b[49m\n",
      "\u001b[36mFile \u001b[39m\u001b[32m~/miniconda3arm/envs/pyTCR1/lib/python3.13/site-packages/shapely/decorators.py:77\u001b[39m, in \u001b[36mmultithreading_enabled.<locals>.wrapped\u001b[39m\u001b[34m(*args, **kwargs)\u001b[39m\n\u001b[32m     75\u001b[39m     \u001b[38;5;28;01mfor\u001b[39;00m arr \u001b[38;5;129;01min\u001b[39;00m array_args:\n\u001b[32m     76\u001b[39m         arr.flags.writeable = \u001b[38;5;28;01mFalse\u001b[39;00m\n\u001b[32m---> \u001b[39m\u001b[32m77\u001b[39m     \u001b[38;5;28;01mreturn\u001b[39;00m \u001b[43mfunc\u001b[49m\u001b[43m(\u001b[49m\u001b[43m*\u001b[49m\u001b[43margs\u001b[49m\u001b[43m,\u001b[49m\u001b[43m \u001b[49m\u001b[43m*\u001b[49m\u001b[43m*\u001b[49m\u001b[43mkwargs\u001b[49m\u001b[43m)\u001b[49m\n\u001b[32m     78\u001b[39m \u001b[38;5;28;01mfinally\u001b[39;00m:\n\u001b[32m     79\u001b[39m     \u001b[38;5;28;01mfor\u001b[39;00m arr, old_flag \u001b[38;5;129;01min\u001b[39;00m \u001b[38;5;28mzip\u001b[39m(array_args, old_flags):\n",
      "\u001b[36mFile \u001b[39m\u001b[32m~/miniconda3arm/envs/pyTCR1/lib/python3.13/site-packages/shapely/predicates.py:526\u001b[39m, in \u001b[36mcontains\u001b[39m\u001b[34m(a, b, **kwargs)\u001b[39m\n\u001b[32m    472\u001b[39m \u001b[38;5;129m@multithreading_enabled\u001b[39m\n\u001b[32m    473\u001b[39m \u001b[38;5;28;01mdef\u001b[39;00m\u001b[38;5;250m \u001b[39m\u001b[34mcontains\u001b[39m(a, b, **kwargs):\n\u001b[32m    474\u001b[39m \u001b[38;5;250m    \u001b[39m\u001b[33;03m\"\"\"Returns True if geometry B is completely inside geometry A.\u001b[39;00m\n\u001b[32m    475\u001b[39m \n\u001b[32m    476\u001b[39m \u001b[33;03m    A contains B if no points of B lie in the exterior of A and at least one\u001b[39;00m\n\u001b[32m   (...)\u001b[39m\u001b[32m    524\u001b[39m \u001b[33;03m    False\u001b[39;00m\n\u001b[32m    525\u001b[39m \u001b[33;03m    \"\"\"\u001b[39;00m\n\u001b[32m--> \u001b[39m\u001b[32m526\u001b[39m     \u001b[38;5;28;01mreturn\u001b[39;00m \u001b[43mlib\u001b[49m\u001b[43m.\u001b[49m\u001b[43mcontains\u001b[49m\u001b[43m(\u001b[49m\u001b[43ma\u001b[49m\u001b[43m,\u001b[49m\u001b[43m \u001b[49m\u001b[43mb\u001b[49m\u001b[43m,\u001b[49m\u001b[43m \u001b[49m\u001b[43m*\u001b[49m\u001b[43m*\u001b[49m\u001b[43mkwargs\u001b[49m\u001b[43m)\u001b[49m\n",
      "\u001b[31mKeyboardInterrupt\u001b[39m: "
     ]
    },
    {
     "data": {
      "image/png": "[encoded data removed]",
      "text/plain": [
       "<Figure size 600x600 with 1 Axes>"
      ]
     },
     "metadata": {},
     "output_type": "display_data"
    }
   ],
   "source": [
    "cmap = tcr_plot.load_cpt_colormap(os.path.join(tcr_data.DATA_DIR, 'colormaps', 'precip2_17lev.cpt'))\n",
    "projection = ccrs.UTM(zone=14)  # UTM Projection for Texas\n",
    "max_precip = 100\n",
    "levels = np.linspace(0, max_precip, 17)\n",
    "fig, ax = plt.subplots(1, 1, figsize=(6, 6), subplot_kw=dict(projection=projection))\n",
    "extent = [np.min(x), np.max(x)+0.5, np.min(y)-0.5, np.max(y)+0.5]\n",
    "\n",
    "# PLOT Net Rainfall\n",
    "gl_storm_ids = 17\n",
    "grid_tx = tcr_plot.shape2grid(x, y, shapefile)\n",
    "im = tcr_plot.plot_density(\n",
    "    ax, y, x, netrain_all[:,:,gl_storm_ids]*grid_tx, levels, extent=extent, projection=projection, \n",
    "    cmap=cmap, gridlabel=True, gridspace=1, shapefile=shp_region, coastlines=False, add_features=False,\n",
    ")\n",
    "ax.set_title(f'Storm #{gl_storm_ids}', fontweight='bold')\n",
    "\n",
    "# COLORBAR\n",
    "cbax = fig.add_axes([0.2, 0.02, 0.6, 0.02])\n",
    "cb = fig.colorbar(im, cax=cbax, orientation='horizontal')\n",
    "cb.set_label(r'Event Total Rainfall (mm)', fontsize=12, labelpad=0)\n",
    "cb.set_ticks(np.linspace(0, max_precip, 5))\n",
    "cb.ax.tick_params(labelsize=12)"
   ]
  }
 ],
 "metadata": {
  "kernelspec": {
   "display_name": "pyTCR",
   "language": "python",
   "name": "python3"
  },
  "language_info": {
   "codemirror_mode": {
    "name": "ipython",
    "version": 3
   },
   "file_extension": ".py",
   "mimetype": "text/x-python",
   "name": "python",
   "nbconvert_exporter": "python",
   "pygments_lexer": "ipython3",
   "version": "3.13.2"
  }
 },
 "nbformat": 4,
 "nbformat_minor": 2
}